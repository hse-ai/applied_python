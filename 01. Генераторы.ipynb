{
  "nbformat": 4,
  "nbformat_minor": 0,
  "metadata": {
    "colab": {
      "provenance": []
    },
    "kernelspec": {
      "name": "python3",
      "display_name": "Python 3"
    },
    "language_info": {
      "name": "python"
    }
  },
  "cells": [
    {
      "cell_type": "markdown",
      "source": [
        "### Вспоминаем генераторы"
      ],
      "metadata": {
        "id": "8h5uMC56VRha"
      }
    },
    {
      "cell_type": "code",
      "source": [
        "def generate_fib(max_number):\n",
        "    fib_1, fib_2 = 1, 1\n",
        "    yield fib_1\n",
        "    yield fib_2\n",
        "\n",
        "    for i in range(2, max_number):\n",
        "        fib_1, fib_2 = fib_2, fib_1 + fib_2\n",
        "        yield fib_2\n",
        "\n",
        "fibs = generate_fib(10)\n",
        "\n",
        "print(next(fibs))\n",
        "print(next(fibs))\n",
        "print(next(fibs))\n",
        "print(next(fibs))\n"
      ],
      "metadata": {
        "colab": {
          "base_uri": "https://localhost:8080/"
        },
        "id": "6JtnE7X8VRNy",
        "outputId": "59de752b-9787-4d45-ca99-76d74eb9a9e7"
      },
      "execution_count": null,
      "outputs": [
        {
          "output_type": "stream",
          "name": "stdout",
          "text": [
            "1\n",
            "1\n",
            "2\n",
            "3\n"
          ]
        }
      ]
    },
    {
      "cell_type": "code",
      "execution_count": null,
      "metadata": {
        "colab": {
          "base_uri": "https://localhost:8080/"
        },
        "id": "dwsmYDzDUPwe",
        "outputId": "7eb7a5fc-1e3e-4dcb-cbf1-b915ef61b064"
      },
      "outputs": [
        {
          "output_type": "stream",
          "name": "stdout",
          "text": [
            "1\n",
            "1\n",
            "2\n",
            "3\n",
            "5\n",
            "8\n",
            "13\n",
            "21\n",
            "34\n",
            "55\n",
            "----------\n"
          ]
        }
      ],
      "source": [
        "fibs = generate_fib(10)\n",
        "for x in fibs:\n",
        "    print(x)\n",
        "print('-'*10)\n",
        "for x in fibs:\n",
        "    print(x)"
      ]
    },
    {
      "cell_type": "markdown",
      "source": [
        "Кстати, а как вернуть значение из генератора?"
      ],
      "metadata": {
        "id": "En7YusL2Zh5y"
      }
    },
    {
      "cell_type": "code",
      "source": [
        "next(fibs)"
      ],
      "metadata": {
        "colab": {
          "base_uri": "https://localhost:8080/"
        },
        "id": "cP3uYKeDVbeg",
        "outputId": "8184198e-2308-4484-a6a9-e330e3f77f19"
      },
      "execution_count": null,
      "outputs": [
        {
          "output_type": "error",
          "ename": "StopIteration",
          "evalue": "",
          "traceback": [
            "\u001b[0;31m---------------------------------------------------------------------------\u001b[0m",
            "\u001b[0;31mStopIteration\u001b[0m                             Traceback (most recent call last)",
            "\u001b[0;32m<ipython-input-8-d1c2812c56a1>\u001b[0m in \u001b[0;36m<cell line: 1>\u001b[0;34m()\u001b[0m\n\u001b[0;32m----> 1\u001b[0;31m \u001b[0mnext\u001b[0m\u001b[0;34m(\u001b[0m\u001b[0mfibs\u001b[0m\u001b[0;34m)\u001b[0m\u001b[0;34m\u001b[0m\u001b[0;34m\u001b[0m\u001b[0m\n\u001b[0m",
            "\u001b[0;31mStopIteration\u001b[0m: "
          ]
        }
      ]
    },
    {
      "cell_type": "code",
      "source": [
        "def generate_fib(max_number):\n",
        "    fib_1, fib_2 = 1, 1\n",
        "    yield fib_1\n",
        "    yield fib_2\n",
        "\n",
        "    return 4\n",
        "\n",
        "fibs = generate_fib(10)\n",
        "for x in fibs:\n",
        "    print(x)"
      ],
      "metadata": {
        "colab": {
          "base_uri": "https://localhost:8080/"
        },
        "id": "bIa4MbnrZlTO",
        "outputId": "1baefd69-1b24-4879-8c66-dd62bb9936f7"
      },
      "execution_count": null,
      "outputs": [
        {
          "output_type": "stream",
          "name": "stdout",
          "text": [
            "1\n",
            "1\n"
          ]
        }
      ]
    },
    {
      "cell_type": "code",
      "source": [
        "next(fibs)"
      ],
      "metadata": {
        "colab": {
          "base_uri": "https://localhost:8080/"
        },
        "id": "CIfpCCY9Zfkv",
        "outputId": "85cd975d-124d-4c1d-c859-957bc94baa3b"
      },
      "execution_count": null,
      "outputs": [
        {
          "output_type": "error",
          "ename": "StopIteration",
          "evalue": "",
          "traceback": [
            "\u001b[0;31m---------------------------------------------------------------------------\u001b[0m",
            "\u001b[0;31mStopIteration\u001b[0m                             Traceback (most recent call last)",
            "\u001b[0;32m<ipython-input-10-d1c2812c56a1>\u001b[0m in \u001b[0;36m<cell line: 1>\u001b[0;34m()\u001b[0m\n\u001b[0;32m----> 1\u001b[0;31m \u001b[0mnext\u001b[0m\u001b[0;34m(\u001b[0m\u001b[0mfibs\u001b[0m\u001b[0;34m)\u001b[0m\u001b[0;34m\u001b[0m\u001b[0;34m\u001b[0m\u001b[0m\n\u001b[0m",
            "\u001b[0;31mStopIteration\u001b[0m: "
          ]
        }
      ]
    },
    {
      "cell_type": "code",
      "source": [
        "def generate_fib(max_number):\n",
        "    fib_1, fib_2 = 1, 1\n",
        "    yield fib_1\n",
        "    yield fib_2\n",
        "\n",
        "    return 4\n",
        "\n",
        "fibs = generate_fib(10)\n",
        "\n",
        "try:\n",
        "    for x in fibs:\n",
        "        print(x)\n",
        "except StopIteration as e:\n",
        "    print(\"Return value:\", e.value)\n"
      ],
      "metadata": {
        "colab": {
          "base_uri": "https://localhost:8080/"
        },
        "id": "QwMl-agCZtEa",
        "outputId": "d69dce2a-91a8-4114-e356-fb7616c717f1"
      },
      "execution_count": null,
      "outputs": [
        {
          "output_type": "stream",
          "name": "stdout",
          "text": [
            "1\n",
            "1\n"
          ]
        }
      ]
    },
    {
      "cell_type": "code",
      "source": [
        "def generate_fib(max_number):\n",
        "    fib_1, fib_2 = 1, 1\n",
        "    yield fib_1\n",
        "    yield fib_2\n",
        "\n",
        "    return 4\n",
        "\n",
        "fibs = generate_fib(10)\n",
        "\n",
        "while True:\n",
        "    try:\n",
        "        value = next(fibs)\n",
        "        print(value)\n",
        "    except StopIteration as e:\n",
        "        print(\"Return value:\", e.value)  # Выводим значение return\n",
        "        break\n"
      ],
      "metadata": {
        "colab": {
          "base_uri": "https://localhost:8080/"
        },
        "id": "MsPBMQE3Zyx-",
        "outputId": "7dbbc1ca-abd4-4ffe-ba50-2fc4a578376e"
      },
      "execution_count": null,
      "outputs": [
        {
          "output_type": "stream",
          "name": "stdout",
          "text": [
            "1\n",
            "1\n",
            "Return value: 4\n"
          ]
        }
      ]
    },
    {
      "cell_type": "markdown",
      "source": [
        "### Генераторы как корутины\n",
        "\n",
        "Генераторы можно использовать как корутины, которые могут не только возвращать значения, но и принимать их. Это стало основой для использования генераторов в асинхронных сценариях.\n",
        "\n"
      ],
      "metadata": {
        "id": "BEwDniqMaaE3"
      }
    },
    {
      "cell_type": "code",
      "source": [
        "def coroutine():\n",
        "    print(\"Start\")\n",
        "    value = yield\n",
        "    print(f\"Received: {value}\")\n",
        "    yield \"Done\"\n",
        "\n",
        "coro = coroutine()\n",
        "\n",
        "next(coro)\n",
        "\n",
        "coro.send(\"Hello\")\n"
      ],
      "metadata": {
        "colab": {
          "base_uri": "https://localhost:8080/",
          "height": 71
        },
        "id": "HhLsO7WgaFzN",
        "outputId": "3c2fb112-8296-49c3-bf5f-24ac8cefffc9"
      },
      "execution_count": null,
      "outputs": [
        {
          "output_type": "stream",
          "name": "stdout",
          "text": [
            "Start\n",
            "Received: Hello\n"
          ]
        },
        {
          "output_type": "execute_result",
          "data": {
            "text/plain": [
              "'Done'"
            ],
            "application/vnd.google.colaboratory.intrinsic+json": {
              "type": "string"
            }
          },
          "metadata": {},
          "execution_count": 17
        }
      ]
    },
    {
      "cell_type": "markdown",
      "source": [
        "Чуть более сложный пример с циклом внутри"
      ],
      "metadata": {
        "id": "3tsfV6Uwa66V"
      }
    },
    {
      "cell_type": "code",
      "source": [
        "def running_total():\n",
        "    total = 0\n",
        "    while True:\n",
        "        number = yield total\n",
        "        if number is None:\n",
        "            break\n",
        "        total += number\n",
        "    return total\n",
        "\n",
        "gen = running_total()\n",
        "\n",
        "next(gen)\n",
        "\n",
        "print(gen.send(5))\n",
        "print(gen.send(10))\n",
        "print(gen.send(3))\n",
        "\n",
        "gen.send(None)\n"
      ],
      "metadata": {
        "colab": {
          "base_uri": "https://localhost:8080/",
          "height": 233
        },
        "id": "UITHBGy3aht3",
        "outputId": "f9bb5498-b5ef-46ec-aa70-7fa0943b1083"
      },
      "execution_count": null,
      "outputs": [
        {
          "output_type": "stream",
          "name": "stdout",
          "text": [
            "105\n",
            "115\n",
            "118\n"
          ]
        },
        {
          "output_type": "error",
          "ename": "StopIteration",
          "evalue": "",
          "traceback": [
            "\u001b[0;31m---------------------------------------------------------------------------\u001b[0m",
            "\u001b[0;31mStopIteration\u001b[0m                             Traceback (most recent call last)",
            "\u001b[0;32m<ipython-input-18-224f3e63082d>\u001b[0m in \u001b[0;36m<cell line: 17>\u001b[0;34m()\u001b[0m\n\u001b[1;32m     15\u001b[0m \u001b[0mprint\u001b[0m\u001b[0;34m(\u001b[0m\u001b[0mgen\u001b[0m\u001b[0;34m.\u001b[0m\u001b[0msend\u001b[0m\u001b[0;34m(\u001b[0m\u001b[0;36m3\u001b[0m\u001b[0;34m)\u001b[0m\u001b[0;34m)\u001b[0m\u001b[0;34m\u001b[0m\u001b[0;34m\u001b[0m\u001b[0m\n\u001b[1;32m     16\u001b[0m \u001b[0;34m\u001b[0m\u001b[0m\n\u001b[0;32m---> 17\u001b[0;31m \u001b[0mgen\u001b[0m\u001b[0;34m.\u001b[0m\u001b[0msend\u001b[0m\u001b[0;34m(\u001b[0m\u001b[0;32mNone\u001b[0m\u001b[0;34m)\u001b[0m\u001b[0;34m\u001b[0m\u001b[0;34m\u001b[0m\u001b[0m\n\u001b[0m",
            "\u001b[0;31mStopIteration\u001b[0m: "
          ]
        }
      ]
    },
    {
      "cell_type": "markdown",
      "source": [
        "В этом примере генератор аккумулирует суммы, принимая данные через `send()`. Такой подход можно использовать для отслеживания состояния в течение выполнения, что напоминает принципы асинхронного программирования, где состояния задач могут изменяться во времени.\n",
        "\n"
      ],
      "metadata": {
        "id": "jsxFoeN2bFDP"
      }
    },
    {
      "cell_type": "markdown",
      "source": [
        "Более сложный пример с обработкой исключений в генераторах:"
      ],
      "metadata": {
        "id": "ndrBWmCbbH-t"
      }
    },
    {
      "cell_type": "code",
      "source": [
        "def exception_handling_coroutine():\n",
        "    print(\"Starting coroutine\")\n",
        "    try:\n",
        "        while True:\n",
        "            try:\n",
        "                value = yield\n",
        "            except ValueError:\n",
        "                print(\"ValueError caught inside coroutine!\")\n",
        "            else:\n",
        "                print(f\"Received value: {value}\")\n",
        "    finally:\n",
        "        print(\"Coroutine terminating\")\n",
        "\n",
        "coro = exception_handling_coroutine()\n",
        "next(coro)\n",
        "\n",
        "coro.send(10)\n",
        "coro.send(20)\n",
        "\n",
        "coro.throw(ValueError)\n",
        "\n",
        "coro.close()\n"
      ],
      "metadata": {
        "colab": {
          "base_uri": "https://localhost:8080/"
        },
        "id": "yfCjyQkIay7a",
        "outputId": "e0f4fd37-2b05-46bb-89c0-182e64c072f0"
      },
      "execution_count": null,
      "outputs": [
        {
          "output_type": "stream",
          "name": "stdout",
          "text": [
            "Starting coroutine\n",
            "Received value: 10\n",
            "Received value: 20\n",
            "ValueError caught inside coroutine!\n",
            "Coroutine terminating\n"
          ]
        }
      ]
    },
    {
      "cell_type": "markdown",
      "source": [
        "### yield from"
      ],
      "metadata": {
        "id": "19JeC42nbp0S"
      }
    },
    {
      "cell_type": "markdown",
      "source": [
        "Когда `yield from` применяется к подгенератору, он последовательно возвращает все значения этого подгенератора в внешний генератор.\n"
      ],
      "metadata": {
        "id": "CFkkbMj7bv9X"
      }
    },
    {
      "cell_type": "code",
      "source": [
        "def accumulator():\n",
        "    total = 0\n",
        "    for i in range(3):\n",
        "        total += i\n",
        "        yield i\n",
        "    return total\n",
        "\n",
        "def main_generator():\n",
        "    result = yield from accumulator()\n",
        "    print(\"Accumulated total:\", result)\n",
        "\n",
        "for value in main_generator():\n",
        "    print(\"Yielded:\", value)\n"
      ],
      "metadata": {
        "colab": {
          "base_uri": "https://localhost:8080/"
        },
        "id": "Nx64kvrvcFTf",
        "outputId": "fd15f644-51f7-457d-afc5-d144f159e447"
      },
      "execution_count": null,
      "outputs": [
        {
          "output_type": "stream",
          "name": "stdout",
          "text": [
            "Yielded: 0\n",
            "Yielded: 1\n",
            "Yielded: 2\n",
            "Accumulated total: 3\n"
          ]
        }
      ]
    },
    {
      "cell_type": "markdown",
      "source": [
        "Более сложный пример с несколькими подгенераторами"
      ],
      "metadata": {
        "id": "fui_nCencYak"
      }
    },
    {
      "cell_type": "code",
      "source": [
        "def numbers():\n",
        "    yield 1\n",
        "    yield 2\n",
        "    yield 3\n",
        "    return \"Numbers done\"\n",
        "\n",
        "def letters():\n",
        "    yield 'A'\n",
        "    yield 'B'\n",
        "    yield 'C'\n",
        "    return \"Letters done\"\n",
        "\n",
        "def main_generator():\n",
        "    result1 = yield from numbers()\n",
        "    print(\"First subgenerator result:\", result1)\n",
        "\n",
        "    result2 = yield from letters()\n",
        "    print(\"Second subgenerator result:\", result2)\n",
        "\n",
        "    return \"All subgenerators done\"\n",
        "\n",
        "for value in main_generator():\n",
        "    print(\"Yielded:\", value)\n"
      ],
      "metadata": {
        "colab": {
          "base_uri": "https://localhost:8080/"
        },
        "id": "mr0FOy6Ybu6f",
        "outputId": "4bc6932a-3a4b-4aa3-d2f0-a17c7cd3a723"
      },
      "execution_count": null,
      "outputs": [
        {
          "output_type": "stream",
          "name": "stdout",
          "text": [
            "Yielded: 1\n",
            "Yielded: 2\n",
            "Yielded: 3\n",
            "First subgenerator result: Numbers done\n",
            "Yielded: A\n",
            "Yielded: B\n",
            "Yielded: C\n",
            "Second subgenerator result: Letters done\n"
          ]
        }
      ]
    },
    {
      "cell_type": "markdown",
      "source": [
        "А теперь давайте перемешаем порядок обращения к подгенераторам!"
      ],
      "metadata": {
        "id": "Thcx8fxEcio9"
      }
    },
    {
      "cell_type": "code",
      "source": [
        "def numbers():\n",
        "    yield 1\n",
        "    yield 2\n",
        "    yield 3\n",
        "    yield 4\n",
        "    return \"Numbers done\"\n",
        "\n",
        "def letters():\n",
        "    yield 'A'\n",
        "    yield 'B'\n",
        "    yield 'C'\n",
        "    return \"Letters done\"\n",
        "\n",
        "\n",
        "def interleaved_generator():\n",
        "    gens = [numbers(), letters()]\n",
        "    results = []\n",
        "\n",
        "    while gens:\n",
        "        for gen in gens.copy():\n",
        "            try:\n",
        "                value = next(gen)\n",
        "                yield value\n",
        "            except StopIteration as e:\n",
        "                results.append(e.value)\n",
        "                gens.remove(gen)\n",
        "\n",
        "    for i, result in enumerate(results, start=1):\n",
        "        print(f\"Subgenerator {i} result:\", result)\n",
        "\n",
        "for value in interleaved_generator():\n",
        "    print(\"Yielded:\", value)\n"
      ],
      "metadata": {
        "colab": {
          "base_uri": "https://localhost:8080/"
        },
        "id": "jru7rhY1bNZb",
        "outputId": "34b15a63-ed15-4049-b961-c027bfe0b0c3"
      },
      "execution_count": null,
      "outputs": [
        {
          "output_type": "stream",
          "name": "stdout",
          "text": [
            "Yielded: 1\n",
            "Yielded: A\n",
            "Yielded: 2\n",
            "Yielded: B\n",
            "Yielded: 3\n",
            "Yielded: C\n",
            "Yielded: 4\n",
            "Subgenerator 1 result: Letters done\n",
            "Subgenerator 2 result: Numbers done\n"
          ]
        }
      ]
    },
    {
      "cell_type": "code",
      "source": [
        "from collections import deque\n",
        "\n",
        "def numbers():\n",
        "    yield 1\n",
        "    yield 2\n",
        "    yield 3\n",
        "    yield 4\n",
        "    return \"Numbers done\"\n",
        "\n",
        "def letters():\n",
        "    yield 'A'\n",
        "    yield 'B'\n",
        "    yield 'C'\n",
        "    return \"Letters done\"\n",
        "\n",
        "def interleaved_generator():\n",
        "    gens = deque([numbers(), letters()])\n",
        "    results = []\n",
        "\n",
        "    while gens:\n",
        "        gen = gens.popleft()\n",
        "        try:\n",
        "            value = next(gen)\n",
        "            yield value\n",
        "            gens.append(gen)\n",
        "        except StopIteration as e:\n",
        "            results.append(e.value)\n",
        "\n",
        "    for i, result in enumerate(results, start=1):\n",
        "        print(f\"Subgenerator {i} result:\", result)\n",
        "\n",
        "for value in interleaved_generator():\n",
        "    print(\"Yielded:\", value)\n"
      ],
      "metadata": {
        "colab": {
          "base_uri": "https://localhost:8080/"
        },
        "id": "7WLmqli3chUS",
        "outputId": "b23c3498-d581-4d1a-b82f-226f881e00ab"
      },
      "execution_count": null,
      "outputs": [
        {
          "output_type": "stream",
          "name": "stdout",
          "text": [
            "Yielded: 1\n",
            "Yielded: A\n",
            "Yielded: 2\n",
            "Yielded: B\n",
            "Yielded: 3\n",
            "Yielded: C\n",
            "Yielded: 4\n",
            "Subgenerator 1 result: Letters done\n",
            "Subgenerator 2 result: Numbers done\n"
          ]
        }
      ]
    }
  ]
}