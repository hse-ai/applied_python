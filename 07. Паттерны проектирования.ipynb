{
  "nbformat": 4,
  "nbformat_minor": 0,
  "metadata": {
    "colab": {
      "provenance": [],
      "collapsed_sections": [
        "-3ao1mg0XHW2",
        "CyZDllukXbNt",
        "CC0OAaQNXlfF",
        "EzGtPxddXuOX",
        "8EvMqE1JYHKW",
        "90_5enpdYHEz",
        "bNkIfxD9YSes",
        "hYlXTBtTYana",
        "x2gehG4ZZZ_S",
        "D_SGcm4sZZ58",
        "9WCQBwi5dBRp",
        "l6_RNhGDdDqB",
        "scBgW_yDdF-3",
        "swsSJ26hdKEh",
        "6XCaZ91FdMni",
        "ur-h1WAHdOrp"
      ]
    },
    "kernelspec": {
      "name": "python3",
      "display_name": "Python 3"
    },
    "language_info": {
      "name": "python"
    }
  },
  "cells": [
    {
      "cell_type": "markdown",
      "source": [
        "## Паттерны проектирования и их особенности в Python"
      ],
      "metadata": {
        "id": "UqMGu42WXCW7"
      }
    },
    {
      "cell_type": "markdown",
      "source": [
        "### Классификация паттернов"
      ],
      "metadata": {
        "id": "-3ao1mg0XHW2"
      }
    },
    {
      "cell_type": "markdown",
      "source": [
        "**Паттерны проектирования** — это проверенные временем архитектурные решения, которые помогают организовать код и сделать его более понятным, гибким и поддерживаемым. Они формируют \"язык\" проектирования, позволяя разработчикам быстрее понимать логику и структуру приложений.\n",
        "\n",
        "Python, благодаря своей динамической природе, предоставляет уникальные способы реализации паттернов, упрощая многие из них. Однако у этого есть и обратная сторона: неправильное применение может привести к избыточной сложности.\n",
        "\n",
        "Паттерны делятся на три основные группы:\n",
        "\n",
        "1. **Порождающие**:\n",
        "   - Решают задачи создания объектов.\n",
        "   - Примеры: Singleton, Factory, Builder.\n",
        "\n",
        "2. **Структурные**:\n",
        "   - Организуют отношения между объектами.\n",
        "   - Примеры: Adapter, Decorator, Proxy.\n",
        "\n",
        "3. **Поведенческие**:\n",
        "   - Описывают взаимодействие между объектами.\n",
        "   - Примеры: Observer, Strategy, Command.\n",
        "\n",
        "[Список паттернов на википедии](https://ru.wikipedia.org/wiki/Design_Patterns)"
      ],
      "metadata": {
        "id": "Hlh8u9UoXXsT"
      }
    },
    {
      "cell_type": "markdown",
      "source": [
        "### 1. Singleton"
      ],
      "metadata": {
        "id": "CyZDllukXbNt"
      }
    },
    {
      "cell_type": "markdown",
      "source": [
        "#### Назначение:\n",
        "Обеспечивает создание только одного экземпляра класса и предоставляет глобальную точку доступа к нему.\n",
        "\n",
        "#### Реализация в Python через метакласс\n",
        "\n",
        "```python\n",
        "class SingletonMeta(type):\n",
        "    _instances = {}\n",
        "\n",
        "    def __call__(cls, *args, **kwargs):\n",
        "        if cls not in cls._instances:\n",
        "            cls._instances[cls] = super().__call__(*args, **kwargs)\n",
        "        return cls._instances[cls]\n",
        "\n",
        "class SingletonClass(metaclass=SingletonMeta):\n",
        "    pass\n",
        "\n",
        "a = SingletonClass()\n",
        "b = SingletonClass()\n",
        "\n",
        "print(a is b)  # True\n",
        "```\n",
        "\n",
        "\n",
        "#### Когда использовать:\n",
        "\n",
        "1. Для объектов, которые должны существовать в единственном экземпляре (например, подключение к базе данных, логгирование).\n",
        "2. Когда нужно обеспечить контроль над созданием экземпляра.\n",
        "\n",
        "#### Проблемы:\n",
        "1. Усложняет тестирование (необходима замена экземпляра в тестах).\n",
        "2. Может нарушить принцип единственной ответственности (SRP), если Singleton берёт на себя слишком много задач."
      ],
      "metadata": {
        "id": "kYIolCwNXbK1"
      }
    },
    {
      "cell_type": "markdown",
      "source": [
        "### 2. Factory (Фабрика)"
      ],
      "metadata": {
        "id": "CC0OAaQNXlfF"
      }
    },
    {
      "cell_type": "markdown",
      "source": [
        "#### Назначение:\n",
        "Создаёт объекты без указания точного класса.\n",
        "\n",
        "#### Пример в Python\n",
        "\n",
        "```python\n",
        "class Shape:\n",
        "    def draw(self):\n",
        "        pass\n",
        "\n",
        "class Circle(Shape):\n",
        "    def draw(self):\n",
        "        print(\"Drawing a Circle\")\n",
        "\n",
        "class Square(Shape):\n",
        "    def draw(self):\n",
        "        print(\"Drawing a Square\")\n",
        "\n",
        "class ShapeFactory:\n",
        "    @staticmethod\n",
        "    def create_shape(shape_type):\n",
        "        if shape_type == \"circle\":\n",
        "            return Circle()\n",
        "        elif shape_type == \"square\":\n",
        "            return Square()\n",
        "        else:\n",
        "            raise ValueError(\"Unknown shape type\")\n",
        "\n",
        "# Использование\n",
        "shape = ShapeFactory.create_shape(\"circle\")\n",
        "shape.draw()  # Drawing a Circle\n",
        "```\n",
        "\n",
        "#### Когда использовать:\n",
        "\n",
        "1. Когда логика создания объектов сложная.\n",
        "2. Когда точный класс создаваемого объекта неизвестен до выполнения программы.\n",
        "\n",
        "#### Особенности в Python:\n",
        "- Вместо фабрики часто используют **функции**, так как они проще и читаемее.\n"
      ],
      "metadata": {
        "id": "ahw8cvkpXlZO"
      }
    },
    {
      "cell_type": "markdown",
      "source": [
        "### 3. Builder (Строитель)"
      ],
      "metadata": {
        "id": "EzGtPxddXuOX"
      }
    },
    {
      "cell_type": "markdown",
      "source": [
        "#### Назначение:\n",
        "Отделяет создание сложных объектов от их представления.\n",
        "\n",
        "#### Пример в Python\n",
        "\n",
        "```python\n",
        "class Pizza:\n",
        "    def __init__(self):\n",
        "        self.toppings = []\n",
        "\n",
        "    def add_topping(self, topping):\n",
        "        self.toppings.append(topping)\n",
        "\n",
        "    def __str__(self):\n",
        "        return f\"Pizza with {', '.join(self.toppings)}\"\n",
        "\n",
        "class PizzaBuilder:\n",
        "    def __init__(self):\n",
        "        self.pizza = Pizza()\n",
        "\n",
        "    def add_cheese(self):\n",
        "        self.pizza.add_topping(\"cheese\")\n",
        "        return self\n",
        "\n",
        "    def add_pepperoni(self):\n",
        "        self.pizza.add_topping(\"pepperoni\")\n",
        "        return self\n",
        "\n",
        "    def add_olives(self):\n",
        "        self.pizza.add_topping(\"olives\")\n",
        "        return self\n",
        "\n",
        "    def build(self):\n",
        "        return self.pizza\n",
        "\n",
        "# Использование\n",
        "builder = PizzaBuilder()\n",
        "pizza = builder.add_cheese().add_pepperoni().build()\n",
        "print(pizza)  # Pizza with cheese, pepperoni\n",
        "```\n",
        "\n",
        "#### Когда использовать:\n",
        "\n",
        "1. Когда объект имеет множество параметров.\n",
        "2. Когда объект сложен в создании, и важно сохранить читаемость кода.\n",
        "\n",
        "#### Особенности в Python:\n",
        "- Python позволяет передавать параметры конструкторам напрямую, что часто упрощает создание объектов без Builder."
      ],
      "metadata": {
        "id": "fZ0M-OPRXuFh"
      }
    },
    {
      "cell_type": "markdown",
      "source": [
        "### 1. Adapter (Адаптер)"
      ],
      "metadata": {
        "id": "8EvMqE1JYHKW"
      }
    },
    {
      "cell_type": "markdown",
      "source": [
        "#### Назначение:\n",
        "Приводит интерфейс одного класса к интерфейсу, ожидаемому клиентом.\n",
        "\n",
        "#### Пример в Python\n",
        "\n",
        "```python\n",
        "class OldPrinter:\n",
        "    def old_print(self, message):\n",
        "        print(f\"Old printer: {message}\")\n",
        "\n",
        "class PrinterAdapter:\n",
        "    def __init__(self, old_printer):\n",
        "        self.old_printer = old_printer\n",
        "\n",
        "    def print(self, message):\n",
        "        self.old_printer.old_print(message)\n",
        "\n",
        "# Использование\n",
        "old_printer = OldPrinter()\n",
        "adapter = PrinterAdapter(old_printer)\n",
        "adapter.print(\"Hello!\")  # Old printer: Hello!\n",
        "```\n",
        "\n",
        "#### Когда использовать:\n",
        "\n",
        "1. Когда необходимо использовать объект с несовместимым интерфейсом.\n",
        "2. При миграции старого кода."
      ],
      "metadata": {
        "id": "ScQszodLYHHb"
      }
    },
    {
      "cell_type": "markdown",
      "source": [
        "### 2. Decorator (Декоратор)"
      ],
      "metadata": {
        "id": "90_5enpdYHEz"
      }
    },
    {
      "cell_type": "markdown",
      "source": [
        "#### Назначение:\n",
        "Динамически добавляет функциональность объекту.\n",
        "\n",
        "#### Реализация через класс\n",
        "\n",
        "```python\n",
        "class Text:\n",
        "    def render(self):\n",
        "        return \"Hello\"\n",
        "\n",
        "class BoldDecorator:\n",
        "    def __init__(self, text):\n",
        "        self.text = text\n",
        "\n",
        "    def render(self):\n",
        "        return f\"<b>{self.text.render()}</b>\"\n",
        "\n",
        "# Использование\n",
        "text = Text()\n",
        "decorated = BoldDecorator(text)\n",
        "print(decorated.render())  # <b>Hello</b>\n",
        "```\n",
        "\n",
        "#### Когда использовать:\n",
        "\n",
        "1. Для расширения поведения без изменения базового класса.\n",
        "2. Когда требуется гибкость в добавлении функций.\n",
        "\n",
        "#### Особенности в Python:\n",
        "- В Python часто используют функции-декораторы вместо классов.\n"
      ],
      "metadata": {
        "id": "GsYrbLKJYSjO"
      }
    },
    {
      "cell_type": "markdown",
      "source": [
        "### 3. Proxy (Заместитель)"
      ],
      "metadata": {
        "id": "bNkIfxD9YSes"
      }
    },
    {
      "cell_type": "markdown",
      "source": [
        "#### Назначение\n",
        "\n",
        "**Proxy (Заместитель)** — это паттерн, который предоставляет объект-заместитель для контроля доступа к реальному объекту. Заместитель может:\n",
        "1. Контролировать доступ (например, проверять права).\n",
        "2. Логировать обращения к объекту.\n",
        "3. Управлять производительностью (например, ленивую инициализацию).\n",
        "\n",
        "#### Ленивая инициализация\n",
        "\n",
        "```python\n",
        "class HeavyService:\n",
        "    def __init__(self):\n",
        "        print(\"Initializing heavy service...\")\n",
        "    \n",
        "    def operation(self):\n",
        "        print(\"Performing heavy operation!\")\n",
        "\n",
        "class ProxyService:\n",
        "    def __init__(self):\n",
        "        self._real_service = None\n",
        "\n",
        "    def operation(self):\n",
        "        if self._real_service is None:\n",
        "            self._real_service = HeavyService()  # Инициализация только при первом вызове\n",
        "        self._real_service.operation()\n",
        "\n",
        "# Использование\n",
        "proxy = ProxyService()\n",
        "proxy.operation()  # Initializing heavy service...\n",
        "proxy.operation()  # Performing heavy operation!\n",
        "```\n",
        "\n",
        "#### Когда использовать Proxy?\n",
        "\n",
        "1. Для управления доступом к ресурсам (например, через прокси-серверы).\n",
        "2. Для оптимизации (ленивая инициализация).\n",
        "3. Для логирования и отладки."
      ],
      "metadata": {
        "id": "vC9QL6w3YSZW"
      }
    },
    {
      "cell_type": "markdown",
      "source": [
        "### 1. Observer (Наблюдатель)"
      ],
      "metadata": {
        "id": "hYlXTBtTYana"
      }
    },
    {
      "cell_type": "markdown",
      "source": [
        "#### Назначение\n",
        "\n",
        "**Observer (Наблюдатель)** — это поведенческий паттерн, который позволяет объектам подписываться на события другого объекта и автоматически уведомляться об изменениях.\n",
        "\n",
        "#### Реализация\n",
        "\n",
        "```python\n",
        "class Subject:\n",
        "    def __init__(self):\n",
        "        self._observers = []\n",
        "\n",
        "    def attach(self, observer):\n",
        "        self._observers.append(observer)\n",
        "\n",
        "    def detach(self, observer):\n",
        "        self._observers.remove(observer)\n",
        "\n",
        "    def notify(self):\n",
        "        for observer in self._observers:\n",
        "            observer.update()\n",
        "\n",
        "class Observer:\n",
        "    def update(self):\n",
        "        raise NotImplementedError(\"Subclasses must implement 'update'\")\n",
        "\n",
        "class ConcreteObserver(Observer):\n",
        "    def update(self):\n",
        "        print(\"Observer notified!\")\n",
        "\n",
        "# Использование\n",
        "subject = Subject()\n",
        "observer1 = ConcreteObserver()\n",
        "observer2 = ConcreteObserver()\n",
        "\n",
        "subject.attach(observer1)\n",
        "subject.attach(observer2)\n",
        "\n",
        "subject.notify()\n",
        "# Output:\n",
        "# Observer notified!\n",
        "# Observer notified!\n",
        "```\n",
        "\n",
        "#### Усовершенствование с передачей данных\n",
        "\n",
        "```python\n",
        "class Subject:\n",
        "    def __init__(self):\n",
        "        self._observers = []\n",
        "\n",
        "    def attach(self, observer):\n",
        "        self._observers.append(observer)\n",
        "\n",
        "    def notify(self, data):\n",
        "        for observer in self._observers:\n",
        "            observer.update(data)\n",
        "\n",
        "class Observer:\n",
        "    def update(self, data):\n",
        "        raise NotImplementedError(\"Subclasses must implement 'update'\")\n",
        "\n",
        "class ConcreteObserver(Observer):\n",
        "    def update(self, data):\n",
        "        print(f\"Observer received data: {data}\")\n",
        "\n",
        "# Использование\n",
        "subject = Subject()\n",
        "observer = ConcreteObserver()\n",
        "\n",
        "subject.attach(observer)\n",
        "subject.notify({\"key\": \"value\"})  # Observer received data: {'key': 'value'}\n",
        "```\n",
        "\n",
        "#### Когда использовать Observer?\n",
        "\n",
        "1. Когда необходимо уведомлять множество объектов о событии.\n",
        "2. Когда объекты должны быть независимы друг от друга, но связаны через событие.\n"
      ],
      "metadata": {
        "id": "bViLbgbkXHT1"
      }
    },
    {
      "cell_type": "markdown",
      "source": [
        "### 2. Strategy (Стратегия)\n"
      ],
      "metadata": {
        "id": "x2gehG4ZZZ_S"
      }
    },
    {
      "cell_type": "markdown",
      "source": [
        "#### Назначение\n",
        "\n",
        "**Strategy (Стратегия)** — это поведенческий паттерн, который позволяет определять семейство алгоритмов и делать их взаимозаменяемыми.\n",
        "\n",
        "#### Пример реализации в Python\n",
        "\n",
        "```python\n",
        "class Strategy:\n",
        "    def execute(self):\n",
        "        raise NotImplementedError(\"Subclasses must implement 'execute'\")\n",
        "\n",
        "class ConcreteStrategyA(Strategy):\n",
        "    def execute(self):\n",
        "        print(\"Executing strategy A\")\n",
        "\n",
        "class ConcreteStrategyB(Strategy):\n",
        "    def execute(self):\n",
        "        print(\"Executing strategy B\")\n",
        "\n",
        "class Context:\n",
        "    def __init__(self, strategy: Strategy):\n",
        "        self._strategy = strategy\n",
        "\n",
        "    def set_strategy(self, strategy: Strategy):\n",
        "        self._strategy = strategy\n",
        "\n",
        "    def execute_strategy(self):\n",
        "        self._strategy.execute()\n",
        "\n",
        "# Использование\n",
        "context = Context(ConcreteStrategyA())\n",
        "context.execute_strategy()  # Executing strategy A\n",
        "\n",
        "context.set_strategy(ConcreteStrategyB())\n",
        "context.execute_strategy()  # Executing strategy B\n",
        "```\n",
        "\n",
        "#### Когда использовать Strategy?\n",
        "\n",
        "1. Когда требуется выбирать алгоритм выполнения во время выполнения программы.\n",
        "2. Когда алгоритмы похожи по структуре, но отличаются деталями."
      ],
      "metadata": {
        "id": "Iuud16vfZZ8t"
      }
    },
    {
      "cell_type": "markdown",
      "source": [
        "### 3. Command (Команда)\n"
      ],
      "metadata": {
        "id": "D_SGcm4sZZ58"
      }
    },
    {
      "cell_type": "markdown",
      "source": [
        "#### Назначение\n",
        "\n",
        "**Command (Команда)** — это поведенческий паттерн, который превращает запрос в объект, позволяя параметризовать объекты запросами, ставить запросы в очередь или логировать их.\n",
        "\n",
        "#### Пример реализации в Python\n",
        "\n",
        "```python\n",
        "class Command:\n",
        "    def execute(self):\n",
        "        raise NotImplementedError(\"Subclasses must implement 'execute'\")\n",
        "\n",
        "class LightOnCommand(Command):\n",
        "    def __init__(self, light):\n",
        "        self.light = light\n",
        "\n",
        "    def execute(self):\n",
        "        self.light.turn_on()\n",
        "\n",
        "class LightOffCommand(Command):\n",
        "    def __init__(self, light):\n",
        "        self.light = light\n",
        "\n",
        "    def execute(self):\n",
        "        self.light.turn_off()\n",
        "\n",
        "class Light:\n",
        "    def turn_on(self):\n",
        "        print(\"The light is ON\")\n",
        "\n",
        "    def turn_off(self):\n",
        "        print(\"The light is OFF\")\n",
        "\n",
        "class RemoteControl:\n",
        "    def __init__(self):\n",
        "        self._commands = []\n",
        "\n",
        "    def add_command(self, command):\n",
        "        self._commands.append(command)\n",
        "\n",
        "    def execute_commands(self):\n",
        "        for command in self._commands:\n",
        "            command.execute()\n",
        "\n",
        "# Использование\n",
        "light = Light()\n",
        "remote = RemoteControl()\n",
        "\n",
        "remote.add_command(LightOnCommand(light))\n",
        "remote.add_command(LightOffCommand(light))\n",
        "\n",
        "remote.execute_commands()\n",
        "# Output:\n",
        "# The light is ON\n",
        "# The light is OFF\n",
        "```\n",
        "\n",
        "#### Когда использовать Command?\n",
        "\n",
        "1. Для реализации отмены или повторения действий.\n",
        "2. Для упрощения взаимодействия между объектами, превращая запросы в объекты.\n"
      ],
      "metadata": {
        "id": "r411PDO8XHP4"
      }
    },
    {
      "cell_type": "markdown",
      "source": [
        "## Решение задач"
      ],
      "metadata": {
        "id": "JcK3pZXzXllh"
      }
    },
    {
      "cell_type": "markdown",
      "source": [
        "### Задача 1: Управление подключениями к базе данных (Singleton)\n"
      ],
      "metadata": {
        "id": "9WCQBwi5dBRp"
      }
    },
    {
      "cell_type": "markdown",
      "source": [
        "#### Исходный код:\n",
        "```python\n",
        "import sqlite3\n",
        "\n",
        "class Database:\n",
        "    def __init__(self, db_name):\n",
        "        self.connection = sqlite3.connect(db_name)\n",
        "\n",
        "    def execute_query(self, query):\n",
        "        cursor = self.connection.cursor()\n",
        "        cursor.execute(query)\n",
        "        self.connection.commit()\n",
        "        return cursor.fetchall()\n",
        "\n",
        "db1 = Database(\"app.db\")\n",
        "db2 = Database(\"app.db\")\n",
        "\n",
        "db1.execute_query(\"CREATE TABLE IF NOT EXISTS users (id INTEGER PRIMARY KEY, name TEXT)\")\n",
        "db2.execute_query(\"INSERT INTO users (name) VALUES ('Alice')\")\n",
        "\n",
        "print(db1.execute_query(\"SELECT * FROM users\"))  # [(1, 'Alice')]\n",
        "print(db2.execute_query(\"SELECT * FROM users\"))  # [(1, 'Alice')]\n",
        "```\n",
        "\n",
        "#### Проблемы:\n",
        "1. Создаются несколько подключений к одной базе данных, что приводит к избыточной нагрузке на ресурсы.\n",
        "2. Неуправляемая передача объектов приводит к потенциальным проблемам с состоянием.\n",
        "\n",
        "#### Исправленный код:\n",
        "```python\n",
        "import sqlite3\n",
        "\n",
        "class Database:\n",
        "    _instance = None\n",
        "\n",
        "    def __new__(cls, db_name):\n",
        "        if cls._instance is None:\n",
        "            cls._instance = super().__new__(cls)\n",
        "            cls._instance.connection = sqlite3.connect(db_name)\n",
        "        return cls._instance\n",
        "\n",
        "    def execute_query(self, query):\n",
        "        cursor = self.connection.cursor()\n",
        "        cursor.execute(query)\n",
        "        self.connection.commit()\n",
        "        return cursor.fetchall()\n",
        "\n",
        "db1 = Database(\"app.db\")\n",
        "db2 = Database(\"app.db\")\n",
        "\n",
        "db1.execute_query(\"CREATE TABLE IF NOT EXISTS users (id INTEGER PRIMARY KEY, name TEXT)\")\n",
        "db2.execute_query(\"INSERT INTO users (name) VALUES ('Alice')\")\n",
        "\n",
        "print(db1.execute_query(\"SELECT * FROM users\"))  # [(1, 'Alice')]\n",
        "print(db2.execute_query(\"SELECT * FROM users\"))  # [(1, 'Alice')]\n",
        "```\n",
        "\n",
        "#### Обоснование:\n",
        "- Singleton гарантирует, что создаётся только одно подключение к базе данных.\n",
        "- Все операции используют одно и то же соединение, что предотвращает конфликты состояния.\n"
      ],
      "metadata": {
        "id": "le9mAO6_cVr2"
      }
    },
    {
      "cell_type": "markdown",
      "source": [
        "### Задача 2: Кэширование данных API (Proxy)"
      ],
      "metadata": {
        "id": "l6_RNhGDdDqB"
      }
    },
    {
      "cell_type": "markdown",
      "source": [
        "#### Исходный код:\n",
        "```python\n",
        "import requests\n",
        "\n",
        "def fetch_data(url):\n",
        "    response = requests.get(url)\n",
        "    return response.json()\n",
        "\n",
        "print(fetch_data(\"https://jsonplaceholder.typicode.com/posts/1\"))\n",
        "print(fetch_data(\"https://jsonplaceholder.typicode.com/posts/1\"))\n",
        "```\n",
        "\n",
        "#### Проблемы:\n",
        "1. Каждый вызов API делает новый запрос, что приводит к избыточным затратам на сеть.\n",
        "2. Нет механизма кэширования данных.\n",
        "\n",
        "#### Исправленный код:\n",
        "```python\n",
        "import requests\n",
        "\n",
        "class APIProxy:\n",
        "    def __init__(self):\n",
        "        self._cache = {}\n",
        "\n",
        "    def fetch_data(self, url):\n",
        "        if url not in self._cache:\n",
        "            response = requests.get(url)\n",
        "            self._cache[url] = response.json()\n",
        "        return self._cache[url]\n",
        "\n",
        "proxy = APIProxy()\n",
        "\n",
        "print(proxy.fetch_data(\"https://jsonplaceholder.typicode.com/posts/1\"))\n",
        "print(proxy.fetch_data(\"https://jsonplaceholder.typicode.com/posts/1\"))  # Данные из кэша\n",
        "```\n",
        "\n",
        "#### Обоснование:\n",
        "- Proxy добавляет кэширование, чтобы избежать повторных вызовов API.\n",
        "- Улучшается производительность и сокращается нагрузка на сеть.\n"
      ],
      "metadata": {
        "id": "Z0gZYpuUcZ2j"
      }
    },
    {
      "cell_type": "markdown",
      "source": [
        "### Задача 3: Генерация отчётов разного типа (Factory)"
      ],
      "metadata": {
        "id": "scBgW_yDdF-3"
      }
    },
    {
      "cell_type": "markdown",
      "source": [
        "#### Исходный код:\n",
        "```python\n",
        "class Report:\n",
        "    def generate_pdf(self):\n",
        "        print(\"PDF Report Generated\")\n",
        "\n",
        "    def generate_csv(self):\n",
        "        print(\"CSV Report Generated\")\n",
        "\n",
        "report = Report()\n",
        "report_type = input(\"Введите тип отчёта (pdf/csv): \")\n",
        "\n",
        "if report_type == \"pdf\":\n",
        "    report.generate_pdf()\n",
        "elif report_type == \"csv\":\n",
        "    report.generate_csv()\n",
        "else:\n",
        "    raise ValueError(\"Неизвестный тип отчёта\")\n",
        "```\n",
        "\n",
        "#### Проблемы:\n",
        "1. Код не масштабируется для добавления новых типов отчётов.\n",
        "2. Логика выбора типа отчёта размыта и трудна для тестирования.\n",
        "\n",
        "#### Исправленный код:\n",
        "```python\n",
        "class Report:\n",
        "    def generate(self):\n",
        "        pass\n",
        "\n",
        "class PDFReport(Report):\n",
        "    def generate(self):\n",
        "        print(\"PDF Report Generated\")\n",
        "\n",
        "class CSVReport(Report):\n",
        "    def generate(self):\n",
        "        print(\"CSV Report Generated\")\n",
        "\n",
        "class ReportFactory:\n",
        "    @staticmethod\n",
        "    def create_report(report_type):\n",
        "        if report_type == \"pdf\":\n",
        "            return PDFReport()\n",
        "        elif report_type == \"csv\":\n",
        "            return CSVReport()\n",
        "        else:\n",
        "            raise ValueError(\"Неизвестный тип отчёта\")\n",
        "\n",
        "report_type = input(\"Введите тип отчёта (pdf/csv): \")\n",
        "report = ReportFactory.create_report(report_type)\n",
        "report.generate()\n",
        "```\n",
        "\n",
        "#### Обоснование:\n",
        "- Factory централизует логику создания объектов.\n",
        "- Новые типы отчётов добавляются без изменения основной программы."
      ],
      "metadata": {
        "id": "BJswQKWFcZwD"
      }
    },
    {
      "cell_type": "markdown",
      "source": [
        "### Задача 4: Уведомления о состоянии заказа (Observer)"
      ],
      "metadata": {
        "id": "swsSJ26hdKEh"
      }
    },
    {
      "cell_type": "markdown",
      "source": [
        "#### Исходный код:\n",
        "```python\n",
        "class Order:\n",
        "    def __init__(self):\n",
        "        self.status = None\n",
        "\n",
        "    def set_status(self, status):\n",
        "        self.status = status\n",
        "        print(f\"Order status updated to: {status}\")\n",
        "\n",
        "order = Order()\n",
        "order.set_status(\"Processing\")\n",
        "order.set_status(\"Shipped\")\n",
        "```\n",
        "\n",
        "#### Проблемы:\n",
        "1. Невозможно уведомить сторонние системы или интерфейсы о изменении статуса.\n",
        "2. Логика уведомлений жёстко встроена в класс `Order`.\n",
        "\n",
        "#### Исправленный код:\n",
        "```python\n",
        "class Order:\n",
        "    def __init__(self):\n",
        "        self.status = None\n",
        "        self._observers = []\n",
        "\n",
        "    def attach(self, observer):\n",
        "        self._observers.append(observer)\n",
        "\n",
        "    def notify(self):\n",
        "        for observer in self._observers:\n",
        "            observer.update(self.status)\n",
        "\n",
        "    def set_status(self, status):\n",
        "        self.status = status\n",
        "        print(f\"Order status updated to: {status}\")\n",
        "        self.notify()\n",
        "\n",
        "class EmailNotifier:\n",
        "    def update(self, status):\n",
        "        print(f\"Sending email: Order status changed to {status}\")\n",
        "\n",
        "class SMSNotifier:\n",
        "    def update(self, status):\n",
        "        print(f\"Sending SMS: Order status changed to {status}\")\n",
        "\n",
        "order = Order()\n",
        "order.attach(EmailNotifier())\n",
        "order.attach(SMSNotifier())\n",
        "\n",
        "order.set_status(\"Processing\")\n",
        "order.set_status(\"Shipped\")\n",
        "```\n",
        "\n",
        "#### Обоснование:\n",
        "- Observer уведомляет несколько систем об изменении состояния.\n",
        "- Логика уведомлений вынесена в отдельные классы, что улучшает читаемость и расширяемость."
      ],
      "metadata": {
        "id": "t1GV9AHAcPnk"
      }
    },
    {
      "cell_type": "markdown",
      "source": [
        "### Задача 5: Выбор алгоритма обработки данных (Strategy)"
      ],
      "metadata": {
        "id": "6XCaZ91FdMni"
      }
    },
    {
      "cell_type": "markdown",
      "source": [
        "#### Исходный код:\n",
        "```python\n",
        "data = [1, 2, 3, 4, 5]\n",
        "operation = input(\"Выберите операцию (sum/avg): \")\n",
        "\n",
        "if operation == \"sum\":\n",
        "    print(sum(data))\n",
        "elif operation == \"avg\":\n",
        "    print(sum(data) / len(data))\n",
        "else:\n",
        "    raise ValueError(\"Неизвестная операция\")\n",
        "```\n",
        "\n",
        "#### Проблемы:\n",
        "1. Код трудно расширить для новых операций.\n",
        "2. Логика расчёта жёстко привязана к условиям.\n",
        "\n",
        "#### Исправленный код:\n",
        "```python\n",
        "class Strategy:\n",
        "    def execute(self, data):\n",
        "        pass\n",
        "\n",
        "class SumStrategy(Strategy):\n",
        "    def execute(self, data):\n",
        "        return sum(data)\n",
        "\n",
        "class AvgStrategy(Strategy):\n",
        "    def execute(self, data):\n",
        "        return sum(data) / len(data)\n",
        "\n",
        "class Context:\n",
        "    def __init__(self, strategy: Strategy):\n",
        "        self._strategy = strategy\n",
        "\n",
        "    def set_strategy(self, strategy: Strategy):\n",
        "        self._strategy = strategy\n",
        "\n",
        "    def execute(self, data):\n",
        "        return self._strategy.execute(data)\n",
        "\n",
        "data = [1, 2, 3, 4, 5]\n",
        "operation = input(\"Выберите операцию (sum/avg): \")\n",
        "\n",
        "strategies = {\n",
        "    \"sum\": SumStrategy(),\n",
        "    \"avg\": AvgStrategy()\n",
        "}\n",
        "\n",
        "if operation in strategies:\n",
        "    context = Context(strategies[operation])\n",
        "    print(context.execute(data))\n",
        "else:\n",
        "    print(\"Неизвестная операция\")\n",
        "```\n",
        "\n",
        "#### Обоснование:\n",
        "- Strategy позволяет легко добавлять новые алгоритмы.\n",
        "- Код становится проще для тестирования и масштабирования.\n"
      ],
      "metadata": {
        "id": "ktppz4bgcnwb"
      }
    },
    {
      "cell_type": "markdown",
      "source": [
        "### Задача 6: Управление загрузкой и обработкой изображений (Adapter)"
      ],
      "metadata": {
        "id": "ur-h1WAHdOrp"
      }
    },
    {
      "cell_type": "markdown",
      "source": [
        "#### Исходный код:\n",
        "```python\n",
        "class OldImageProcessor:\n",
        "    def process(self, image_path):\n",
        "        print(f\"Processing image: {image_path}\")\n",
        "\n",
        "def process_image(image_path, processor):\n",
        "    processor.process(image_path)\n",
        "\n",
        "processor = OldImageProcessor()\n",
        "process_image(\"image.jpg\", processor)\n",
        "```\n",
        "\n",
        "#### Проблемы:\n",
        "1. Если вы хотите перейти на новую библиотеку обработки изображений (например, PIL или OpenCV), придётся переписать всю логику.\n",
        "2. Нет унифицированного интерфейса для разных процессоров изображений.\n",
        "\n",
        "#### Исправленный код:\n",
        "```python\n",
        "class OldImageProcessor:\n",
        "    def process(self, image_path):\n",
        "        print(f\"Processing image (old processor): {image_path}\")\n",
        "\n",
        "class NewImageProcessor:\n",
        "    def apply_filter(self, image_path):\n",
        "        print(f\"Applying filter to image (new processor): {image_path}\")\n",
        "\n",
        "class ImageProcessorAdapter:\n",
        "    def __init__(self, new_processor):\n",
        "        self.new_processor = new_processor\n",
        "\n",
        "    def process(self, image_path):\n",
        "        self.new_processor.apply_filter(image_path)\n",
        "\n",
        "def process_image(image_path, processor):\n",
        "    processor.process(image_path)\n",
        "\n",
        "old_processor = OldImageProcessor()\n",
        "new_processor = ImageProcessorAdapter(NewImageProcessor())\n",
        "\n",
        "process_image(\"image.jpg\", old_processor)\n",
        "process_image(\"image.jpg\", new_processor)\n",
        "```\n",
        "\n",
        "#### Обоснование:\n",
        "- Adapter позволяет использовать новый процессор без изменения старой логики.\n",
        "- Упрощается переход на новую библиотеку.\n"
      ],
      "metadata": {
        "id": "12aJFputct2L"
      }
    }
  ]
}